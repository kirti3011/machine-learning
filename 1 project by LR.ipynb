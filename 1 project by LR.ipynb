{
 "cells": [
  {
   "cell_type": "code",
   "execution_count": 1,
   "metadata": {},
   "outputs": [],
   "source": [
    "import pandas as pd\n",
    "import numpy as np\n",
    "import matplotlib.pyplot as plt\n",
    "import seaborn as sns"
   ]
  },
  {
   "cell_type": "markdown",
   "metadata": {},
   "source": [
    "# Dataset loading\n"
   ]
  },
  {
   "cell_type": "code",
   "execution_count": 2,
   "metadata": {},
   "outputs": [
    {
     "data": {
      "text/html": [
       "<div>\n",
       "<style scoped>\n",
       "    .dataframe tbody tr th:only-of-type {\n",
       "        vertical-align: middle;\n",
       "    }\n",
       "\n",
       "    .dataframe tbody tr th {\n",
       "        vertical-align: top;\n",
       "    }\n",
       "\n",
       "    .dataframe thead th {\n",
       "        text-align: right;\n",
       "    }\n",
       "</style>\n",
       "<table border=\"1\" class=\"dataframe\">\n",
       "  <thead>\n",
       "    <tr style=\"text-align: right;\">\n",
       "      <th></th>\n",
       "      <th>x</th>\n",
       "      <th>y</th>\n",
       "    </tr>\n",
       "  </thead>\n",
       "  <tbody>\n",
       "    <tr>\n",
       "      <th>0</th>\n",
       "      <td>24.0</td>\n",
       "      <td>21.549452</td>\n",
       "    </tr>\n",
       "    <tr>\n",
       "      <th>1</th>\n",
       "      <td>50.0</td>\n",
       "      <td>47.464463</td>\n",
       "    </tr>\n",
       "    <tr>\n",
       "      <th>2</th>\n",
       "      <td>15.0</td>\n",
       "      <td>17.218656</td>\n",
       "    </tr>\n",
       "    <tr>\n",
       "      <th>3</th>\n",
       "      <td>38.0</td>\n",
       "      <td>36.586398</td>\n",
       "    </tr>\n",
       "    <tr>\n",
       "      <th>4</th>\n",
       "      <td>87.0</td>\n",
       "      <td>87.288984</td>\n",
       "    </tr>\n",
       "    <tr>\n",
       "      <th>...</th>\n",
       "      <td>...</td>\n",
       "      <td>...</td>\n",
       "    </tr>\n",
       "    <tr>\n",
       "      <th>695</th>\n",
       "      <td>58.0</td>\n",
       "      <td>58.595006</td>\n",
       "    </tr>\n",
       "    <tr>\n",
       "      <th>696</th>\n",
       "      <td>93.0</td>\n",
       "      <td>94.625094</td>\n",
       "    </tr>\n",
       "    <tr>\n",
       "      <th>697</th>\n",
       "      <td>82.0</td>\n",
       "      <td>88.603770</td>\n",
       "    </tr>\n",
       "    <tr>\n",
       "      <th>698</th>\n",
       "      <td>66.0</td>\n",
       "      <td>63.648685</td>\n",
       "    </tr>\n",
       "    <tr>\n",
       "      <th>699</th>\n",
       "      <td>97.0</td>\n",
       "      <td>94.975266</td>\n",
       "    </tr>\n",
       "  </tbody>\n",
       "</table>\n",
       "<p>700 rows × 2 columns</p>\n",
       "</div>"
      ],
      "text/plain": [
       "        x          y\n",
       "0    24.0  21.549452\n",
       "1    50.0  47.464463\n",
       "2    15.0  17.218656\n",
       "3    38.0  36.586398\n",
       "4    87.0  87.288984\n",
       "..    ...        ...\n",
       "695  58.0  58.595006\n",
       "696  93.0  94.625094\n",
       "697  82.0  88.603770\n",
       "698  66.0  63.648685\n",
       "699  97.0  94.975266\n",
       "\n",
       "[700 rows x 2 columns]"
      ]
     },
     "execution_count": 2,
     "metadata": {},
     "output_type": "execute_result"
    }
   ],
   "source": [
    "data=pd.read_csv(\"train.csv\")\n",
    "data"
   ]
  },
  {
   "cell_type": "code",
   "execution_count": 3,
   "metadata": {},
   "outputs": [],
   "source": [
    "df=data.copy()"
   ]
  },
  {
   "cell_type": "code",
   "execution_count": 7,
   "metadata": {},
   "outputs": [
    {
     "data": {
      "text/html": [
       "<div>\n",
       "<style scoped>\n",
       "    .dataframe tbody tr th:only-of-type {\n",
       "        vertical-align: middle;\n",
       "    }\n",
       "\n",
       "    .dataframe tbody tr th {\n",
       "        vertical-align: top;\n",
       "    }\n",
       "\n",
       "    .dataframe thead th {\n",
       "        text-align: right;\n",
       "    }\n",
       "</style>\n",
       "<table border=\"1\" class=\"dataframe\">\n",
       "  <thead>\n",
       "    <tr style=\"text-align: right;\">\n",
       "      <th></th>\n",
       "      <th>x</th>\n",
       "      <th>y</th>\n",
       "    </tr>\n",
       "  </thead>\n",
       "  <tbody>\n",
       "    <tr>\n",
       "      <th>0</th>\n",
       "      <td>24.0</td>\n",
       "      <td>21.549452</td>\n",
       "    </tr>\n",
       "    <tr>\n",
       "      <th>1</th>\n",
       "      <td>50.0</td>\n",
       "      <td>47.464463</td>\n",
       "    </tr>\n",
       "    <tr>\n",
       "      <th>2</th>\n",
       "      <td>15.0</td>\n",
       "      <td>17.218656</td>\n",
       "    </tr>\n",
       "  </tbody>\n",
       "</table>\n",
       "</div>"
      ],
      "text/plain": [
       "      x          y\n",
       "0  24.0  21.549452\n",
       "1  50.0  47.464463\n",
       "2  15.0  17.218656"
      ]
     },
     "execution_count": 7,
     "metadata": {},
     "output_type": "execute_result"
    }
   ],
   "source": [
    "df.head(3)"
   ]
  },
  {
   "cell_type": "code",
   "execution_count": 8,
   "metadata": {},
   "outputs": [
    {
     "data": {
      "text/plain": [
       "(700, 2)"
      ]
     },
     "execution_count": 8,
     "metadata": {},
     "output_type": "execute_result"
    }
   ],
   "source": [
    "df.shape"
   ]
  },
  {
   "cell_type": "code",
   "execution_count": 9,
   "metadata": {},
   "outputs": [
    {
     "name": "stdout",
     "output_type": "stream",
     "text": [
      "<class 'pandas.core.frame.DataFrame'>\n",
      "RangeIndex: 700 entries, 0 to 699\n",
      "Data columns (total 2 columns):\n",
      " #   Column  Non-Null Count  Dtype  \n",
      "---  ------  --------------  -----  \n",
      " 0   x       700 non-null    float64\n",
      " 1   y       699 non-null    float64\n",
      "dtypes: float64(2)\n",
      "memory usage: 11.1 KB\n"
     ]
    }
   ],
   "source": [
    "df.info()"
   ]
  },
  {
   "cell_type": "markdown",
   "metadata": {},
   "source": [
    "# Data preprocessing"
   ]
  },
  {
   "cell_type": "code",
   "execution_count": 10,
   "metadata": {},
   "outputs": [
    {
     "data": {
      "image/png": "[encoded data removed]",
      "text/plain": [
       "<Figure size 432x288 with 1 Axes>"
      ]
     },
     "metadata": {
      "needs_background": "light"
     },
     "output_type": "display_data"
    }
   ],
   "source": [
    "import matplotlib.pyplot as plt\n",
    "x = df.x\n",
    "y = df.y\n",
    "plt.plot(x,y, 'o', color = 'black')\n",
    "plt.show()"
   ]
  },
  {
   "cell_type": "code",
   "execution_count": 13,
   "metadata": {},
   "outputs": [
    {
     "name": "stdout",
     "output_type": "stream",
     "text": [
      "number of record in dataset is 700\n"
     ]
    }
   ],
   "source": [
    "print(\"number of record in dataset is {}\".format(len(df)))"
   ]
  },
  {
   "cell_type": "code",
   "execution_count": 14,
   "metadata": {},
   "outputs": [
    {
     "data": {
      "text/plain": [
       "x    0\n",
       "y    1\n",
       "dtype: int64"
      ]
     },
     "execution_count": 14,
     "metadata": {},
     "output_type": "execute_result"
    }
   ],
   "source": [
    "\n",
    "df.isnull().sum()"
   ]
  },
  {
   "cell_type": "code",
   "execution_count": 15,
   "metadata": {},
   "outputs": [
    {
     "data": {
      "text/plain": [
       "x    0\n",
       "y    0\n",
       "dtype: int64"
      ]
     },
     "execution_count": 15,
     "metadata": {},
     "output_type": "execute_result"
    }
   ],
   "source": [
    "df.dropna(inplace = True)\n",
    "df.isnull().sum()"
   ]
  },
  {
   "cell_type": "code",
   "execution_count": 16,
   "metadata": {},
   "outputs": [],
   "source": [
    "x = df.x.values.reshape(-1,1)\n",
    "y = df.y.values.reshape(-1,1)"
   ]
  },
  {
   "cell_type": "code",
   "execution_count": 17,
   "metadata": {},
   "outputs": [],
   "source": [
    "from sklearn.model_selection import train_test_split"
   ]
  },
  {
   "cell_type": "code",
   "execution_count": 24,
   "metadata": {},
   "outputs": [],
   "source": [
    "x_train,x_test,y_train,y_test=train_test_split(x,y,test_size=0.3,random_state=140)"
   ]
  },
  {
   "cell_type": "code",
   "execution_count": 25,
   "metadata": {},
   "outputs": [],
   "source": [
    "from sklearn.linear_model import LinearRegression\n",
    "lm=LinearRegression()"
   ]
  },
  {
   "cell_type": "code",
   "execution_count": 26,
   "metadata": {},
   "outputs": [
    {
     "data": {
      "text/plain": [
       "LinearRegression(copy_X=True, fit_intercept=True, n_jobs=None, normalize=False)"
      ]
     },
     "execution_count": 26,
     "metadata": {},
     "output_type": "execute_result"
    }
   ],
   "source": [
    "lm.fit(x_train,y_train)"
   ]
  },
  {
   "cell_type": "code",
   "execution_count": 27,
   "metadata": {},
   "outputs": [
    {
     "data": {
      "text/plain": [
       "[<matplotlib.lines.Line2D at 0x277bafaeb48>]"
      ]
     },
     "execution_count": 27,
     "metadata": {},
     "output_type": "execute_result"
    },
    {
     "data": {
      "image/png": "[encoded data removed]",
      "text/plain": [
       "<Figure size 720x432 with 1 Axes>"
      ]
     },
     "metadata": {
      "needs_background": "light"
     },
     "output_type": "display_data"
    }
   ],
   "source": [
    "y_predict = lm.predict(x_test)\n",
    "plt.subplots(figsize=(10, 6))\n",
    "plt.scatter(x_test,y_test)\n",
    "plt.plot(x_test,y_predict,c='r')"
   ]
  },
  {
   "cell_type": "code",
   "execution_count": 28,
   "metadata": {},
   "outputs": [
    {
     "data": {
      "text/plain": [
       "0.988733047486131"
      ]
     },
     "execution_count": 28,
     "metadata": {},
     "output_type": "execute_result"
    }
   ],
   "source": [
    "from sklearn.metrics import r2_score\n",
    "score=r2_score(y_test,y_predict)\n",
    "score"
   ]
  },
  {
   "cell_type": "code",
   "execution_count": 1,
   "metadata": {},
   "outputs": [
    {
     "ename": "NameError",
     "evalue": "name 'y_test' is not defined",
     "output_type": "error",
     "traceback": [
      "\u001b[1;31m---------------------------------------------------------------------------\u001b[0m",
      "\u001b[1;31mNameError\u001b[0m                                 Traceback (most recent call last)",
      "\u001b[1;32m<ipython-input-1-518856ad6241>\u001b[0m in \u001b[0;36m<module>\u001b[1;34m\u001b[0m\n\u001b[0;32m      1\u001b[0m \u001b[0mresidual\u001b[0m \u001b[1;33m=\u001b[0m \u001b[1;33m[\u001b[0m\u001b[1;33m]\u001b[0m\u001b[1;33m\u001b[0m\u001b[1;33m\u001b[0m\u001b[0m\n\u001b[1;32m----> 2\u001b[1;33m \u001b[1;32mfor\u001b[0m \u001b[0mi\u001b[0m \u001b[1;32min\u001b[0m \u001b[0mrange\u001b[0m\u001b[1;33m(\u001b[0m\u001b[0mlen\u001b[0m\u001b[1;33m(\u001b[0m\u001b[0my_test\u001b[0m\u001b[1;33m)\u001b[0m\u001b[1;33m)\u001b[0m\u001b[1;33m:\u001b[0m\u001b[1;33m\u001b[0m\u001b[1;33m\u001b[0m\u001b[0m\n\u001b[0m\u001b[0;32m      3\u001b[0m     \u001b[0mresidual\u001b[0m\u001b[1;33m.\u001b[0m\u001b[0mappend\u001b[0m\u001b[1;33m(\u001b[0m\u001b[0my_predict\u001b[0m\u001b[1;33m[\u001b[0m\u001b[0mi\u001b[0m\u001b[1;33m]\u001b[0m \u001b[1;33m-\u001b[0m \u001b[0my_test\u001b[0m\u001b[1;33m[\u001b[0m\u001b[0mi\u001b[0m\u001b[1;33m]\u001b[0m\u001b[1;33m)\u001b[0m\u001b[1;33m\u001b[0m\u001b[1;33m\u001b[0m\u001b[0m\n\u001b[0;32m      4\u001b[0m \u001b[0mresidual\u001b[0m \u001b[1;33m=\u001b[0m \u001b[1;33m[\u001b[0m\u001b[0mitem\u001b[0m\u001b[1;33m[\u001b[0m\u001b[1;36m0\u001b[0m\u001b[1;33m]\u001b[0m \u001b[1;32mfor\u001b[0m \u001b[0mitem\u001b[0m \u001b[1;32min\u001b[0m \u001b[0mresidual\u001b[0m\u001b[1;33m]\u001b[0m\u001b[1;33m\u001b[0m\u001b[1;33m\u001b[0m\u001b[0m\n\u001b[0;32m      5\u001b[0m \u001b[1;31m# frequency distribution historigam\u001b[0m\u001b[1;33m\u001b[0m\u001b[1;33m\u001b[0m\u001b[1;33m\u001b[0m\u001b[0m\n",
      "\u001b[1;31mNameError\u001b[0m: name 'y_test' is not defined"
     ]
    }
   ],
   "source": [
    "residual = []\n",
    "for i in range(len(y_test)):\n",
    "    residual.append(y_predict[i] - y_test[i])\n",
    "residual = [item[0] for item in residual]\n",
    "# frequency distribution historigam\n",
    "#print(min(residual), max(residual))\n",
    "#print(residual)\n",
    "plt.hist(residual, bins=20, facecolor=\"blue\", edgecolor=\"black\", alpha=0.7 )\n",
    "plt.title(\"data:image/png;base64,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Frequency Distribution Historigam of Residual\")\n",
    "plt.show()"
   ]
  },
  {
   "cell_type": "code",
   "execution_count": 30,
   "metadata": {},
   "outputs": [
    {
     "data": {
      "text/html": [
       "<div>\n",
       "<style scoped>\n",
       "    .dataframe tbody tr th:only-of-type {\n",
       "        vertical-align: middle;\n",
       "    }\n",
       "\n",
       "    .dataframe tbody tr th {\n",
       "        vertical-align: top;\n",
       "    }\n",
       "\n",
       "    .dataframe thead th {\n",
       "        text-align: right;\n",
       "    }\n",
       "</style>\n",
       "<table border=\"1\" class=\"dataframe\">\n",
       "  <thead>\n",
       "    <tr style=\"text-align: right;\">\n",
       "      <th></th>\n",
       "      <th>x</th>\n",
       "      <th>y</th>\n",
       "    </tr>\n",
       "  </thead>\n",
       "  <tbody>\n",
       "    <tr>\n",
       "      <th>0</th>\n",
       "      <td>77</td>\n",
       "      <td>79.775152</td>\n",
       "    </tr>\n",
       "    <tr>\n",
       "      <th>1</th>\n",
       "      <td>21</td>\n",
       "      <td>23.177279</td>\n",
       "    </tr>\n",
       "    <tr>\n",
       "      <th>2</th>\n",
       "      <td>22</td>\n",
       "      <td>25.609262</td>\n",
       "    </tr>\n",
       "    <tr>\n",
       "      <th>3</th>\n",
       "      <td>20</td>\n",
       "      <td>17.857388</td>\n",
       "    </tr>\n",
       "    <tr>\n",
       "      <th>4</th>\n",
       "      <td>36</td>\n",
       "      <td>41.849864</td>\n",
       "    </tr>\n",
       "    <tr>\n",
       "      <th>...</th>\n",
       "      <td>...</td>\n",
       "      <td>...</td>\n",
       "    </tr>\n",
       "    <tr>\n",
       "      <th>295</th>\n",
       "      <td>71</td>\n",
       "      <td>68.545888</td>\n",
       "    </tr>\n",
       "    <tr>\n",
       "      <th>296</th>\n",
       "      <td>46</td>\n",
       "      <td>47.334876</td>\n",
       "    </tr>\n",
       "    <tr>\n",
       "      <th>297</th>\n",
       "      <td>55</td>\n",
       "      <td>54.090637</td>\n",
       "    </tr>\n",
       "    <tr>\n",
       "      <th>298</th>\n",
       "      <td>62</td>\n",
       "      <td>63.297171</td>\n",
       "    </tr>\n",
       "    <tr>\n",
       "      <th>299</th>\n",
       "      <td>47</td>\n",
       "      <td>52.459467</td>\n",
       "    </tr>\n",
       "  </tbody>\n",
       "</table>\n",
       "<p>300 rows × 2 columns</p>\n",
       "</div>"
      ],
      "text/plain": [
       "      x          y\n",
       "0    77  79.775152\n",
       "1    21  23.177279\n",
       "2    22  25.609262\n",
       "3    20  17.857388\n",
       "4    36  41.849864\n",
       "..   ..        ...\n",
       "295  71  68.545888\n",
       "296  46  47.334876\n",
       "297  55  54.090637\n",
       "298  62  63.297171\n",
       "299  47  52.459467\n",
       "\n",
       "[300 rows x 2 columns]"
      ]
     },
     "execution_count": 30,
     "metadata": {},
     "output_type": "execute_result"
    }
   ],
   "source": [
    "data1=pd.read_csv(\"test.csv\")\n",
    "data1"
   ]
  },
  {
   "cell_type": "code",
   "execution_count": 31,
   "metadata": {},
   "outputs": [],
   "source": [
    "df1=data1.copy()"
   ]
  },
  {
   "cell_type": "code",
   "execution_count": 32,
   "metadata": {},
   "outputs": [
    {
     "data": {
      "text/html": [
       "<div>\n",
       "<style scoped>\n",
       "    .dataframe tbody tr th:only-of-type {\n",
       "        vertical-align: middle;\n",
       "    }\n",
       "\n",
       "    .dataframe tbody tr th {\n",
       "        vertical-align: top;\n",
       "    }\n",
       "\n",
       "    .dataframe thead th {\n",
       "        text-align: right;\n",
       "    }\n",
       "</style>\n",
       "<table border=\"1\" class=\"dataframe\">\n",
       "  <thead>\n",
       "    <tr style=\"text-align: right;\">\n",
       "      <th></th>\n",
       "      <th>x</th>\n",
       "      <th>y</th>\n",
       "    </tr>\n",
       "  </thead>\n",
       "  <tbody>\n",
       "    <tr>\n",
       "      <th>0</th>\n",
       "      <td>77</td>\n",
       "      <td>79.775152</td>\n",
       "    </tr>\n",
       "    <tr>\n",
       "      <th>1</th>\n",
       "      <td>21</td>\n",
       "      <td>23.177279</td>\n",
       "    </tr>\n",
       "    <tr>\n",
       "      <th>2</th>\n",
       "      <td>22</td>\n",
       "      <td>25.609262</td>\n",
       "    </tr>\n",
       "  </tbody>\n",
       "</table>\n",
       "</div>"
      ],
      "text/plain": [
       "    x          y\n",
       "0  77  79.775152\n",
       "1  21  23.177279\n",
       "2  22  25.609262"
      ]
     },
     "execution_count": 32,
     "metadata": {},
     "output_type": "execute_result"
    }
   ],
   "source": [
    "df1.head(3)"
   ]
  },
  {
   "cell_type": "code",
   "execution_count": 42,
   "metadata": {},
   "outputs": [
    {
     "data": {
      "text/plain": [
       "[<matplotlib.lines.Line2D at 0x277bb027c88>]"
      ]
     },
     "execution_count": 42,
     "metadata": {},
     "output_type": "execute_result"
    },
    {
     "data": {
      "image/png": "[encoded data removed]",
      "text/plain": [
       "<Figure size 432x288 with 1 Axes>"
      ]
     },
     "metadata": {
      "needs_background": "light"
     },
     "output_type": "display_data"
    }
   ],
   "source": [
    "x1=df1.x\n",
    "y1=df1.y\n",
    "plt.plot(x1,y1,\"*\",color=\"red\")\n"
   ]
  },
  {
   "cell_type": "code",
   "execution_count": 34,
   "metadata": {},
   "outputs": [
    {
     "data": {
      "text/plain": [
       "x    0\n",
       "y    0\n",
       "dtype: int64"
      ]
     },
     "execution_count": 34,
     "metadata": {},
     "output_type": "execute_result"
    }
   ],
   "source": [
    "df1.dropna(inplace=True)\n",
    "df1.isnull().sum()"
   ]
  },
  {
   "cell_type": "code",
   "execution_count": 43,
   "metadata": {},
   "outputs": [],
   "source": [
    "x1=df1.x.values.reshape(-1,1)\n",
    "y1=df1.y.values.reshape(-1,1)"
   ]
  },
  {
   "cell_type": "code",
   "execution_count": 44,
   "metadata": {},
   "outputs": [],
   "source": [
    "x_train,x_test,y_train,y_test=train_test_split(x1,y1,test_size=0.3,random_state=140)"
   ]
  },
  {
   "cell_type": "code",
   "execution_count": 45,
   "metadata": {},
   "outputs": [],
   "source": [
    "from sklearn.linear_model import LinearRegression\n",
    "lm1=LinearRegression()"
   ]
  },
  {
   "cell_type": "code",
   "execution_count": 46,
   "metadata": {},
   "outputs": [
    {
     "data": {
      "text/plain": [
       "LinearRegression(copy_X=True, fit_intercept=True, n_jobs=None, normalize=False)"
      ]
     },
     "execution_count": 46,
     "metadata": {},
     "output_type": "execute_result"
    }
   ],
   "source": [
    "lm1.fit(x_train,y_train)"
   ]
  },
  {
   "cell_type": "code",
   "execution_count": 47,
   "metadata": {},
   "outputs": [
    {
     "data": {
      "text/plain": [
       "[<matplotlib.lines.Line2D at 0x277bb107048>]"
      ]
     },
     "execution_count": 47,
     "metadata": {},
     "output_type": "execute_result"
    },
    {
     "data": {
      "image/png": "[encoded data removed]",
      "text/plain": [
       "<Figure size 720x432 with 1 Axes>"
      ]
     },
     "metadata": {
      "needs_background": "light"
     },
     "output_type": "display_data"
    }
   ],
   "source": [
    "y_predict = lm1.predict(x_test)\n",
    "plt.subplots(figsize=(10, 6))\n",
    "plt.scatter(x_test,y_test)\n",
    "plt.plot(x_test,y_predict,c='r')"
   ]
  },
  {
   "cell_type": "code",
   "execution_count": 48,
   "metadata": {},
   "outputs": [
    {
     "data": {
      "text/plain": [
       "0.9876483204990455"
      ]
     },
     "execution_count": 48,
     "metadata": {},
     "output_type": "execute_result"
    }
   ],
   "source": [
    "from sklearn.metrics import r2_score\n",
    "score=r2_score(y_test,y_predict)\n",
    "score"
   ]
  },
  {
   "cell_type": "code",
   "execution_count": 49,
   "metadata": {},
   "outputs": [
    {
     "data": {
      "image/png": "[encoded data removed]",
      "text/plain": [
       "<Figure size 432x288 with 1 Axes>"
      ]
     },
     "metadata": {
      "needs_background": "light"
     },
     "output_type": "display_data"
    }
   ],
   "source": [
    "residual = []\n",
    "for i in range(len(y_test)):\n",
    "    residual.append(y_predict[i] - y_test[i])\n",
    "residual = [item[0] for item in residual]\n",
    "# frequency distribution historigam\n",
    "#print(min(residual), max(residual))\n",
    "#print(residual)\n",
    "plt.hist(residual, bins=20, facecolor=\"blue\", edgecolor=\"black\", alpha=0.7 )\n",
    "plt.title(\"Frequency Distribution Historigam of Residual\")\n",
    "plt.show()"
   ]
  },
  {
   "cell_type": "code",
   "execution_count": null,
   "metadata": {},
   "outputs": [],
   "source": []
  }
 ],
 "metadata": {
  "kernelspec": {
   "display_name": "Python 3",
   "language": "python",
   "name": "python3"
  },
  "language_info": {
   "codemirror_mode": {
    "name": "ipython",
    "version": 3
   },
   "file_extension": ".py",
   "mimetype": "text/x-python",
   "name": "python",
   "nbconvert_exporter": "python",
   "pygments_lexer": "ipython3",
   "version": "3.7.6"
  }
 },
 "nbformat": 4,
 "nbformat_minor": 4
}
